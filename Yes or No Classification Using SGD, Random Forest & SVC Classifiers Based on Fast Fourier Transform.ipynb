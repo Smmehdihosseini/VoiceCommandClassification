{
 "cells": [
  {
   "cell_type": "markdown",
   "metadata": {},
   "source": [
    "# Yes/No Classification Using SGD, Random Forest & SVC Classifiers Based on Fast Fourier Transform"
   ]
  },
  {
   "cell_type": "markdown",
   "metadata": {},
   "source": [
    " In this project we're looking for classifying \"Yes\" or \"No\" sounds using 3 different classification models and also compare their predictions vector with each other.\n",
    "\n",
    "The dataset has been formatted as .wav files with 16 kHz sampling rate, so first of all we're going to get the array of each instance and then computing fft of them for our model input.\n",
    "\n",
    "**Authors:** Seyed Mohammad Mehdi Hosseini (Smmehdihosseini@gmail.com) & Kamyar Arshi (Kamyararshi@gmail.com) \n",
    "\n",
    "\n",
    "**Dataset License:**  Creative Commons BY 4.0 license (For more info visit: https://creativecommons.org/licenses/by/4.0/)"
   ]
  },
  {
   "cell_type": "markdown",
   "metadata": {},
   "source": [
    "#### >>> 1. Preparing Dataset\n",
    "\n",
    "**Note!** You can directly download the dataset via: <http://download.tensorflow.org/data/speech_commands_v0.01.tar.gz>, extracting the .gz file and giving directories <.\\yes> and <.\\no>. There are also other types of sounds in this dataset that it could be used for further and more advanced projects."
   ]
  },
  {
   "cell_type": "code",
   "execution_count": 16,
   "metadata": {},
   "outputs": [],
   "source": [
    "FILE_YES = 'Your Path To Yes Instances'        #Dataset directory for \"YES\" instances\n",
    "FILE_NO = 'Your Path To No Instances'          #Dataset directory for \"NO\" instances"
   ]
  },
  {
   "cell_type": "markdown",
   "metadata": {},
   "source": [
    "#### >>> 2. Importing Required Libraries"
   ]
  },
  {
   "cell_type": "code",
   "execution_count": 26,
   "metadata": {},
   "outputs": [],
   "source": [
    "import os\n",
    "import numpy as np\n",
    "import matplotlib.pyplot as plt\n",
    "import random\n",
    "from scipy.io.wavfile import read\n",
    "from scipy.fftpack import fft\n",
    "\n",
    "from sklearn.utils import shuffle\n",
    "\n",
    "import matplotlib.patches as mpatches\n",
    "import matplotlib.pyplot as plt\n",
    "\n",
    "from sklearn.linear_model import SGDClassifier\n",
    "from sklearn.ensemble import RandomForestClassifier\n",
    "from sklearn.svm import SVC\n",
    "\n",
    "from sklearn.model_selection import cross_val_predict\n",
    "from sklearn.model_selection import cross_val_score\n",
    "from sklearn.metrics import confusion_matrix\n",
    "from sklearn.metrics import precision_score, recall_score, f1_score\n",
    "from sklearn.metrics import precision_recall_curve\n",
    "from sklearn.metrics import roc_curve\n",
    "from sklearn.metrics import roc_auc_score"
   ]
  },
  {
   "cell_type": "markdown",
   "metadata": {},
   "source": [
    "#### >>> 3. Data Preprocessing Function"
   ]
  },
  {
   "cell_type": "code",
   "execution_count": 5,
   "metadata": {},
   "outputs": [],
   "source": [
    "def prepare_the_data(directory):                                                \n",
    "\n",
    "    files = os.listdir(directory)\n",
    "    path = os.path.join(directory, files[0])\n",
    "    \n",
    "    (out_fs ,signal1) = read(path)\n",
    "    signal1_fft = fft(signal1)\n",
    "    signal1_fft = signal1_fft[:8000]\n",
    "    signal1 = signal1.reshape(1,16000)\n",
    "    signal1_fft = signal1_fft.reshape(1,8000)\n",
    "    \n",
    "    for i in files[1:]:\n",
    "        path = os.path.join(directory, i)\n",
    "        (out_fs ,signal) = read(path)\n",
    "        \n",
    "        if signal.size == 16000:                                               #Checking Sampling Rate for each instance\n",
    "                                                                            \n",
    "            fft_temp = fft(signal)                                             #FFT Computation for instances\n",
    "            fft_temp = fft_temp[:8000]                                         #Selectingonly the positive half of FFT\n",
    "            fft_temp = fft_temp.reshape(1,8000)                                \n",
    "            signal1_fft = np.concatenate((signal1_fft, fft_temp), axis=0)\n",
    "        \n",
    "   \n",
    "    return signal1_fft, out_fs"
   ]
  },
  {
   "cell_type": "markdown",
   "metadata": {},
   "source": [
    "#### >>> 4. Storing .wav Files Into Numpy Arrays"
   ]
  },
  {
   "cell_type": "code",
   "execution_count": 17,
   "metadata": {},
   "outputs": [
    {
     "name": "stdout",
     "output_type": "stream",
     "text": [
      "+ Dimensions of \"YES\" Instances: (2157, 8000)\n",
      "+ Dimensions of \"NO\" Instances: (2098, 8000)\n"
     ]
    }
   ],
   "source": [
    "\n",
    "X_yes, fs_yes = prepare_the_data(FILE_YES)                                     #Sampling frequencies are similar in all instances\n",
    "yes_label = np.ones((X_yes.shape[0], 1))\n",
    "X_no, fs_no = prepare_the_data(FILE_NO)                                        #Sampling frequencies are similar in all instances\n",
    "no_label = np.zeros((X_no.shape[0], 1))\n",
    "\n",
    "print('+ Dimensions of \"YES\" Instances:', X_yes.shape)\n",
    "print('+ Dimensions of \"NO\" Instances:', X_no.shape)"
   ]
  },
  {
   "cell_type": "markdown",
   "metadata": {},
   "source": [
    "#### >>> 5. Combining 'Yes' and 'No' Into A Single Array"
   ]
  },
  {
   "cell_type": "code",
   "execution_count": 18,
   "metadata": {},
   "outputs": [
    {
     "name": "stdout",
     "output_type": "stream",
     "text": [
      "+ Dataset Dimension: (4255, 8000)\n",
      "+ Datalabels Dimension: (4255, 1)\n"
     ]
    }
   ],
   "source": [
    "data_set = np.concatenate((X_yes,X_no), axis=0)\n",
    "data_labels = np.concatenate((yes_label, no_label), axis=0)\n",
    "print('+ Dataset Dimension:', data_set.shape)\n",
    "print('+ Datalabels Dimension:', data_labels.shape)"
   ]
  },
  {
   "cell_type": "markdown",
   "metadata": {},
   "source": [
    "#### >>> 6. Shuffling The Data Instances and Then Split It Into Train and Test Sets\n",
    "\n",
    "**Note!** In This Case, Splitation Ratio is 0.8 Which Means That We Use 80% of Our Data for Training and 20% of It For Test Set."
   ]
  },
  {
   "cell_type": "code",
   "execution_count": 21,
   "metadata": {},
   "outputs": [
    {
     "name": "stdout",
     "output_type": "stream",
     "text": [
      "+ Training Set Dimension: (3404, 8000)\n",
      "+ Test Set Dimension: (851, 8000)\n"
     ]
    }
   ],
   "source": [
    "#Shuffling the Data instances and then split it into train & test sets\n",
    "\n",
    "def data_rand_split(dataset, datalabels, ratio):\n",
    "    \n",
    "    data_set_shuff, data_labels_shuff = shuffle(dataset, datalabels, random_state=42)\n",
    "    label_rat = int(ratio*data_labels_shuff.shape[0])\n",
    "    set_rat = int(ratio*data_set_shuff.shape[0])\n",
    "    X_train, y_train, X_test, y_test = data_set_shuff[:set_rat], data_labels_shuff[:label_rat], data_set_shuff[set_rat:], data_labels_shuff[label_rat:]\n",
    "    return X_train, y_train.flatten(), X_test, y_test.flatten()                #Lables should be flattend to fit the Data\n",
    "\n",
    "X_train, y_train, X_test, y_test = data_rand_split(data_set, data_labels, 0.8) \n",
    "print('+ Training Set Dimension:', X_train.shape)\n",
    "print('+ Test Set Dimension:', X_test.shape)"
   ]
  },
  {
   "cell_type": "markdown",
   "metadata": {},
   "source": [
    "#### >>> 7. Computing Magnitude of Arrays\n",
    "\n",
    "**Note!** In This Project, We're Using Just Using The Magnitude of the Data To Train Our Model. It's Possible To Use Phase of The Audio To Increase Accuracy."
   ]
  },
  {
   "cell_type": "code",
   "execution_count": 23,
   "metadata": {},
   "outputs": [],
   "source": [
    "X_train_abs = np.abs(X_train)                                                  \n",
    "X_test_abs = np.abs(X_test)                                                    \n",
    "y_train_yes = (y_train == 1)\n",
    "y_test_yes = (y_test == 1)"
   ]
  },
  {
   "cell_type": "markdown",
   "metadata": {},
   "source": [
    "#### >>> 8. Evaluation Functions"
   ]
  },
  {
   "cell_type": "code",
   "execution_count": 25,
   "metadata": {},
   "outputs": [],
   "source": [
    "def trainmodel_evaluation():                                                     \n",
    "    trainnum = random.randint(0, y_train_yes.shape[0])\n",
    "    instance = X_train_abs[trainnum]\n",
    "    label = y_train_yes[trainnum]\n",
    "    return instance, label\n",
    "\n",
    "def testmodel_evaluation():                                                       \n",
    "    trainnum = random.randint(0, y_test_yes.shape[0])\n",
    "    instance = X_test_abs[trainnum]\n",
    "    label = y_test_yes[trainnum]\n",
    "    return instance, label"
   ]
  },
  {
   "cell_type": "markdown",
   "metadata": {},
   "source": [
    "#### >>> 9. Desired Plot Functions"
   ]
  },
  {
   "cell_type": "code",
   "execution_count": 27,
   "metadata": {},
   "outputs": [],
   "source": [
    "def plot_precision_recall_vs_threshold(precisions, recalls, thresholds):\n",
    "    threshold = thresholds[np.argmax(precisions == recalls)]\n",
    "    plt.plot(precisions[:-1], \"b-\", label=\"Precision\")\n",
    "    plt.plot(recalls[:-1], \"r-\", label=\"Recall\")\n",
    "    plt.plot(threshold, \"g-\", label=\"Threshold\")\n",
    "    blue_patch = mpatches.Patch(color='blue', label='Precision')\n",
    "    red_patch = mpatches.Patch(color='red', label='Recall')\n",
    "    green_patch = mpatches.Patch(color='green', label='Threshold')\n",
    "    plt.legend(handles=[blue_patch, red_patch, green_patch])\n",
    "    plt.xlabel(\"Threshold\")\n",
    "    plt.ylabel(\"Rate\")\n",
    "    plt.ylim((0,1))\n",
    "    plt.grid()\n",
    "    plt.show()\n",
    "    \n",
    "def plot_roc_curve(falsepr, truepr, label=None):\n",
    "    plt.plot(falsepr, truepr, linewidth=2, label=label)\n",
    "    plt.plot([0, 1], [0, 1], 'k--')\n",
    "    plt.xlabel(\"Threshold\")\n",
    "    plt.ylabel(\"Recall (True Positive Rate)\")\n",
    "    plt.ylim((0,1))\n",
    "    plt.grid()\n",
    "    plt.show()"
   ]
  },
  {
   "cell_type": "markdown",
   "metadata": {},
   "source": [
    "#### >>> 10. Choosing Random Instance For Model Evaluation"
   ]
  },
  {
   "cell_type": "code",
   "execution_count": 34,
   "metadata": {},
   "outputs": [],
   "source": [
    "#Choosing Random Instance For Model Evaluation\n",
    "some_instance_train, some_label_train = trainmodel_evaluation()\n",
    "some_instance_test, some_label_test = testmodel_evaluation()"
   ]
  },
  {
   "cell_type": "markdown",
   "metadata": {},
   "source": [
    "#### >>> 11. SGD Classifier Model Training and Evaluation"
   ]
  },
  {
   "cell_type": "code",
   "execution_count": 35,
   "metadata": {},
   "outputs": [
    {
     "name": "stdout",
     "output_type": "stream",
     "text": [
      "+ Random Selected Train Instance Label:\n",
      " [False] \n",
      "\n",
      "+ SGD Classifier Model Prediction For Random Selected Train Instance:\n",
      " [False] \n",
      "\n",
      "+ Random Selected Test Instance Label:\n",
      " [True] \n",
      "\n",
      "+ SGD Classifier Model Prediction For Random Selected Test Instance:\n",
      " [ True] \n",
      "\n",
      "+ SGD Classifier Model Accuracy:\n",
      " [0.90044053 0.90132159 0.90740741] \n",
      "\n",
      "+ SGD Classifier Model Confusion Matrix:\n",
      " [[1473  194]\n",
      " [ 136 1601]] \n",
      "\n",
      "+ SGD Classifier Model Precision Score:\n",
      " 0.8919220055710306 \n",
      "\n",
      "+ SGD Classifier Model Recall Score:\n",
      " 0.9217040875071963 \n",
      "\n",
      "+ SGD Classifier Model F1 Score:\n",
      " 0.906568516421291 \n",
      "\n",
      "+ SGD Classifier Model Precision, Recall Vs Threshold:\n",
      "\n"
     ]
    },
    {
     "data": {
      "image/png": "[encoded data removed]",
      "text/plain": [
       "<Figure size 432x288 with 1 Axes>"
      ]
     },
     "metadata": {
      "needs_background": "light"
     },
     "output_type": "display_data"
    },
    {
     "name": "stdout",
     "output_type": "stream",
     "text": [
      "+ SGD Classifier Model ROC Curve:\n",
      "\n"
     ]
    },
    {
     "data": {
      "image/png": "[encoded data removed]",
      "text/plain": [
       "<Figure size 432x288 with 1 Axes>"
      ]
     },
     "metadata": {
      "needs_background": "light"
     },
     "output_type": "display_data"
    },
    {
     "name": "stdout",
     "output_type": "stream",
     "text": [
      "+ SVC Classifier Model ROC(AUC) Score:\n",
      " 0.955421350962968 \n",
      "\n"
     ]
    }
   ],
   "source": [
    "#Training Model\n",
    "\n",
    "sgd_clf = SGDClassifier(random_state=42)\n",
    "sgd_clf.fit(X_train_abs, y_train_yes)\n",
    "\n",
    "#Testing The Model Validity Using Our Train Set\n",
    "print('+ Random Selected Train Instance Label:\\n', [some_label_train], '\\n')\n",
    "print('+ SGD Classifier Model Prediction For Random Selected Train Instance:\\n', sgd_clf.predict([some_instance_train]), '\\n')\n",
    "\n",
    "print('+ Random Selected Test Instance Label:\\n', [some_label_test], '\\n')\n",
    "print('+ SGD Classifier Model Prediction For Random Selected Test Instance:\\n', sgd_clf.predict([some_instance_test]), '\\n')\n",
    "\n",
    "#Prediction Array\n",
    "SGD_pred = cross_val_predict(sgd_clf, X_train_abs, y_train_yes, cv=3)\n",
    "\n",
    "#Accuracy of Model Prediction\n",
    "SGD_accuracy = cross_val_score(sgd_clf, X_train_abs, y_train_yes, cv=3, scoring=\"accuracy\")\n",
    "print('+ SGD Classifier Model Accuracy:\\n', SGD_accuracy, '\\n')\n",
    "\n",
    "#Confusion Matrix \n",
    "SGD_confusion = confusion_matrix(y_train_yes, SGD_pred)\n",
    "print('+ SGD Classifier Model Confusion Matrix:\\n', SGD_confusion, '\\n')\n",
    "\n",
    "#Precision, Recall and F1 Score\n",
    "SGD_precision = precision_score(y_train_yes, SGD_pred)\n",
    "SGD_recall = recall_score(y_train_yes, SGD_pred)\n",
    "SGD_f1_score = f1_score(y_train_yes, SGD_pred)\n",
    "print('+ SGD Classifier Model Precision Score:\\n', SGD_precision, '\\n')\n",
    "print('+ SGD Classifier Model Recall Score:\\n', SGD_recall, '\\n')\n",
    "print('+ SGD Classifier Model F1 Score:\\n', SGD_f1_score, '\\n')\n",
    "\n",
    "#Precision, Recall vs threshold\n",
    "SGD_scores = cross_val_predict(sgd_clf, X_train_abs, y_train_yes, cv=3, method=\"decision_function\")\n",
    "SGD_precisions, SGD_recalls, SGD_thresholds = precision_recall_curve(y_train_yes, SGD_scores)\n",
    "print('+ SGD Classifier Model Precision, Recall Vs Threshold:\\n')\n",
    "plot_precision_recall_vs_threshold(SGD_precisions, SGD_recalls, SGD_thresholds)\n",
    "\n",
    "#ROC Curve\n",
    "SGD_falsepr, SGD_truepr, SGD_thresholds = roc_curve(y_train_yes, SGD_scores)\n",
    "print('+ SGD Classifier Model ROC Curve:\\n')\n",
    "plot_roc_curve(SGD_falsepr, SGD_truepr)\n",
    "\n",
    "#ROC (AUC) Score\n",
    "SGD_roc_auc = roc_auc_score(y_train_yes, SGD_scores)\n",
    "print('+ SVC Classifier Model ROC(AUC) Score:\\n', SGD_roc_auc, '\\n')"
   ]
  },
  {
   "cell_type": "markdown",
   "metadata": {},
   "source": [
    "#### >>> 12. Random Forest Classifier Model Training and Evaluation"
   ]
  },
  {
   "cell_type": "code",
   "execution_count": 37,
   "metadata": {},
   "outputs": [
    {
     "name": "stdout",
     "output_type": "stream",
     "text": [
      "+ Random Selected Train Instance Label:\n",
      " [False] \n",
      "\n",
      "+ Random Forest Classifier Model Prediction For Random Selected Train Instance:\n",
      " [False] \n",
      "\n",
      "+ Random Selected Test Instance Label:\n",
      " [True] \n",
      "\n",
      "+ Random Forest Classifier Model Prediction For Random Selected Test Instance:\n",
      " [ True] \n",
      "\n",
      "+ Random Forest Classifier Model Accuracy:\n",
      " [0.90044053 0.90132159 0.90740741] \n",
      "\n",
      "+ Random Forest Classifier Model Confusion Matrix:\n",
      " [[1550  117]\n",
      " [ 187 1550]] \n",
      "\n",
      "+ Random Forest Classifier Model Precision Score:\n",
      " 0.9298140371925615 \n",
      "\n",
      "+ Random Forest Model Recall Score:\n",
      " 0.8923431203223949 \n",
      "\n",
      "+ Random Forest Model F1 Score:\n",
      " 0.9106933019976499 \n",
      "\n",
      "+ Random Forest Classifier Model Precision, Recall Vs Threshold:\n",
      "\n"
     ]
    },
    {
     "data": {
      "image/png": "[encoded data removed]",
      "text/plain": [
       "<Figure size 432x288 with 1 Axes>"
      ]
     },
     "metadata": {
      "needs_background": "light"
     },
     "output_type": "display_data"
    },
    {
     "name": "stdout",
     "output_type": "stream",
     "text": [
      "+ Random Forest Classifier Model ROC Curve:\n",
      "\n"
     ]
    },
    {
     "data": {
      "image/png": "[encoded data removed]",
      "text/plain": [
       "<Figure size 432x288 with 1 Axes>"
      ]
     },
     "metadata": {
      "needs_background": "light"
     },
     "output_type": "display_data"
    }
   ],
   "source": [
    "#Training Model\n",
    "\n",
    "forest_clf = RandomForestClassifier(random_state=44)\n",
    "forest_clf.fit(X_train_abs, y_train_yes)\n",
    "\n",
    "#Testing The Model Validity Using Our Train Set\n",
    "\n",
    "print('+ Random Selected Train Instance Label:\\n', [some_label_train], '\\n')\n",
    "print('+ Random Forest Classifier Model Prediction For Random Selected Train Instance:\\n', forest_clf.predict([some_instance_train]), '\\n')\n",
    "\n",
    "print('+ Random Selected Test Instance Label:\\n', [some_label_test], '\\n')\n",
    "print('+ Random Forest Classifier Model Prediction For Random Selected Test Instance:\\n', forest_clf.predict([some_instance_test]), '\\n')\n",
    "\n",
    "#Prediction Array\n",
    "Forest_pred = cross_val_predict(forest_clf, X_train_abs, y_train_yes, cv=3)\n",
    "Forest_probas = cross_val_predict(forest_clf, X_train_abs, y_train_yes, cv=3, method=\"predict_proba\")\n",
    "Forest_scores = Forest_probas[:,1]\n",
    "\n",
    "#Accuracy of Model Prediction\n",
    "Forest_accuracy = cross_val_score(forest_clf, X_train_abs, y_train_yes, cv=3, scoring=\"accuracy\")\n",
    "print('+ Random Forest Classifier Model Accuracy:\\n', SGD_accuracy, '\\n')\n",
    "\n",
    "#Confusion Matrix \n",
    "Forest_confusion = confusion_matrix(y_train_yes, Forest_pred)\n",
    "print('+ Random Forest Classifier Model Confusion Matrix:\\n', Forest_confusion, '\\n')\n",
    "\n",
    "#Precision, Recall and F1 Score\n",
    "Forest_precision = precision_score(y_train_yes, Forest_pred)\n",
    "Forest_recall = recall_score(y_train_yes, Forest_pred)\n",
    "Forest_f1_score = f1_score(y_train_yes, Forest_pred)\n",
    "print('+ Random Forest Classifier Model Precision Score:\\n', Forest_precision, '\\n')\n",
    "print('+ Random Forest Model Recall Score:\\n', Forest_recall, '\\n')\n",
    "print('+ Random Forest Model F1 Score:\\n', Forest_f1_score, '\\n')\n",
    "\n",
    "#Precision, Recall vs threshold\n",
    "#Forest_scores = cross_val_predict(forest_clf, X_train_abs, y_train_yes, cv=3, method=\"decision_function\")\n",
    "Forest_precisions, Forest_recalls, Forest_thresholds = precision_recall_curve(y_train_yes, Forest_scores)\n",
    "print('+ Random Forest Classifier Model Precision, Recall Vs Threshold:\\n')\n",
    "plot_precision_recall_vs_threshold(Forest_precisions, Forest_recalls, Forest_thresholds)\n",
    "\n",
    "#ROC Curve\n",
    "Forest_falsepr, Forest_truepr, Forest_thresholds = roc_curve(y_train_yes, Forest_scores)\n",
    "print('+ Random Forest Classifier Model ROC Curve:\\n')\n",
    "plot_roc_curve(Forest_falsepr, Forest_truepr)"
   ]
  },
  {
   "cell_type": "markdown",
   "metadata": {},
   "source": [
    "#### >>> 13. Support Vector Classifier Model Training and Evaluation"
   ]
  },
  {
   "cell_type": "code",
   "execution_count": 39,
   "metadata": {},
   "outputs": [
    {
     "name": "stdout",
     "output_type": "stream",
     "text": [
      "+ Random Selected Train Instance Label:\n",
      " [False] \n",
      "\n",
      "+ Random Forest Classifier Model Prediction For Random Selected Train Instance:\n",
      " [0.] \n",
      "\n",
      "+ Random Selected Test Instance Label:\n",
      " [True] \n",
      "\n",
      "+ Random Forest Classifier Model Prediction For Random Selected Test Instance:\n",
      " [1.] \n",
      "\n",
      "+ SVC Classifier Model Accuracy:\n",
      " [0.88281938 0.90660793 0.88447972] \n",
      "\n",
      "+ SGD Classifier Model Confusion Matrix:\n",
      " [[1627   40]\n",
      " [ 186 1551]] \n",
      "\n",
      "+ SVC Classifier Model Precision Score:\n",
      " 0.9748585795097423 \n",
      "\n",
      "+ SVC Classifier Model Recall Score:\n",
      " 0.8929188255613126 \n",
      "\n",
      "+ SVC Classifier Model F1 Score:\n",
      " 0.9320913461538463 \n",
      "\n",
      "+ SVC Classifier Model Precision, Recall Vs Threshold:\n",
      "\n"
     ]
    },
    {
     "data": {
      "image/png": "[encoded data removed]",
      "text/plain": [
       "<Figure size 432x288 with 1 Axes>"
      ]
     },
     "metadata": {
      "needs_background": "light"
     },
     "output_type": "display_data"
    },
    {
     "name": "stdout",
     "output_type": "stream",
     "text": [
      "+ SVC Classifier Model ROC Curve:\n",
      "\n"
     ]
    },
    {
     "data": {
      "image/png": "[encoded data removed]",
      "text/plain": [
       "<Figure size 432x288 with 1 Axes>"
      ]
     },
     "metadata": {
      "needs_background": "light"
     },
     "output_type": "display_data"
    },
    {
     "name": "stdout",
     "output_type": "stream",
     "text": [
      "+ SVC Classifier Model ROC(AUC) Score:\n",
      " 0.9680302281512609 \n",
      "\n"
     ]
    }
   ],
   "source": [
    "#Training Model\n",
    "\n",
    "svc_clf = SVC()\n",
    "svc_clf.fit(X_train_abs, y_train)\n",
    "\n",
    "#Testing The Model Validity Using Our Train Set\n",
    "print('+ Random Selected Train Instance Label:\\n', [some_label_train], '\\n')\n",
    "print('+ Random Forest Classifier Model Prediction For Random Selected Train Instance:\\n', svc_clf.predict([some_instance_train]), '\\n')\n",
    "\n",
    "print('+ Random Selected Test Instance Label:\\n', [some_label_test], '\\n')\n",
    "print('+ Random Forest Classifier Model Prediction For Random Selected Test Instance:\\n', svc_clf.predict([some_instance_test]), '\\n')\n",
    "\n",
    "#Prediction Array\n",
    "SVC_pred = svc_clf.predict(X_train_abs)\n",
    "\n",
    "#Accuracy of Model Prediction\n",
    "SVC_accuracy = cross_val_score(svc_clf, X_train_abs, y_train, cv=3, scoring=\"accuracy\")\n",
    "print('+ SVC Classifier Model Accuracy:\\n', SVC_accuracy, '\\n') \n",
    "\n",
    "#Confusion Matrix \n",
    "SVC_confusion = confusion_matrix(y_train_yes, SVC_pred)\n",
    "print('+ SGD Classifier Model Confusion Matrix:\\n', SVC_confusion, '\\n')\n",
    "\n",
    "#Precision, Recall and F1 Score\n",
    "SVC_precision = precision_score(y_train_yes, SVC_pred)\n",
    "SVC_recall = recall_score(y_train_yes, SVC_pred)\n",
    "SVC_f1_score = f1_score(y_train_yes, SVC_pred)\n",
    "print('+ SVC Classifier Model Precision Score:\\n', SVC_precision, '\\n')\n",
    "print('+ SVC Classifier Model Recall Score:\\n', SVC_recall, '\\n')\n",
    "print('+ SVC Classifier Model F1 Score:\\n', SVC_f1_score, '\\n')\n",
    "\n",
    "#Precision, Recall vs threshold\n",
    "SVC_scores = cross_val_predict(svc_clf, X_train_abs, y_train_yes, cv=3, method=\"decision_function\")\n",
    "SVC_precisions, SVC_recalls, SVC_thresholds = precision_recall_curve(y_train_yes, SVC_scores)\n",
    "print('+ SVC Classifier Model Precision, Recall Vs Threshold:\\n')\n",
    "plot_precision_recall_vs_threshold(SVC_precisions, SVC_recalls, SVC_thresholds)\n",
    "\n",
    "#ROC Curve\n",
    "SVC_falsepr, SVC_truepr, SVC_thresholds = roc_curve(y_train_yes, SVC_scores)\n",
    "print('+ SVC Classifier Model ROC Curve:\\n')\n",
    "plot_roc_curve(SVC_falsepr, SVC_truepr)\n",
    "\n",
    "#ROC (AUC) Score\n",
    "SVC_roc_auc = roc_auc_score(y_train_yes, SVC_scores)\n",
    "print('+ SVC Classifier Model ROC(AUC) Score:\\n', SVC_roc_auc, '\\n')"
   ]
  },
  {
   "cell_type": "markdown",
   "metadata": {},
   "source": [
    "#### >>> 14. A Comparison Between Models"
   ]
  },
  {
   "cell_type": "code",
   "execution_count": 41,
   "metadata": {},
   "outputs": [
    {
     "name": "stdout",
     "output_type": "stream",
     "text": [
      "+ Comparison Between Models For Precision :\n",
      "\n",
      "SVC Classisfier :: 0.9748585795097423\n",
      "Random Forset Classifier :: 0.9298140371925615\n",
      "SGD Classifier :: 0.8919220055710306\n",
      "\n",
      "\n",
      "+ Comparison Between Models For Recall :\n",
      "\n",
      "SGD Classifier :: 0.9217040875071963\n",
      "SVC Classisfier :: 0.8929188255613126\n",
      "Random Forset Classifier :: 0.8923431203223949\n",
      "\n",
      "\n",
      "+ Comparison Between Models For F1 Score :\n",
      "\n",
      "SVC Classisfier :: 0.9320913461538463\n",
      "Random Forset Classifier :: 0.9106933019976499\n",
      "SGD Classifier :: 0.906568516421291\n",
      "\n",
      "\n"
     ]
    }
   ],
   "source": [
    "def comparator(Performance_Model):\n",
    "    if Performance_Model == 'Precision':\n",
    "        Model_Dict = {'SGD Classifier': SGD_precision, 'Random Forset Classifier': Forest_precision, 'SVC Classisfier': SVC_precision}\n",
    "    elif Performance_Model == 'Recall':\n",
    "        Model_Dict = {'SGD Classifier': SGD_recall, 'Random Forset Classifier': Forest_recall, 'SVC Classisfier': SVC_recall}\n",
    "    elif Performance_Model == 'F1 Score':\n",
    "        Model_Dict = {'SGD Classifier': SGD_f1_score, 'Random Forset Classifier': Forest_f1_score, 'SVC Classisfier': SVC_f1_score}\n",
    "    elif Performance_Model == 'ROC(AUC)':\n",
    "        Model_Dict = {'SGD Classifier': SGD_roc_auc, 'Random Forset Classifier': Forest_roc_auc, 'SVC Classisfier': SVC_roc_auc}\n",
    "        \n",
    "    print(\"+ Comparison Between Models For\", Performance_Model,\":\\n\")\n",
    "    for elem in sorted(Model_Dict.items() ,reverse=True, key=lambda x: x[1]):\n",
    "        print(elem[0], \"::\", elem[1])\n",
    "    return print('\\n')\n",
    "\n",
    "comparator('Precision')\n",
    "comparator('Recall')\n",
    "comparator('F1 Score')"
   ]
  },
  {
   "cell_type": "markdown",
   "metadata": {},
   "source": [
    "**Contact us:**\n",
    "\n",
    "Seyed Mohammad Mehdi Hosseini (Smmehdihosseini@gmail.com)\n",
    "\n",
    "Kamyar Arshi (Kamyararshi@gmail.com)\n",
    "\n"
   ]
  }
 ],
 "metadata": {
  "kernelspec": {
   "display_name": "Python 3",
   "language": "python",
   "name": "python3"
  },
  "language_info": {
   "codemirror_mode": {
    "name": "ipython",
    "version": 3
   },
   "file_extension": ".py",
   "mimetype": "text/x-python",
   "name": "python",
   "nbconvert_exporter": "python",
   "pygments_lexer": "ipython3",
   "version": "3.6.8"
  }
 },
 "nbformat": 4,
 "nbformat_minor": 4
}
